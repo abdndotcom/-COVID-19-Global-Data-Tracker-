# ==========================================
# COVID-19 Global Data Tracker
# ==========================================
# Author: [Your Name]
# Date: 2025-08-11
# Description: Tracks global COVID-19 trends from a local CSV file
# ==========================================

# Step 1: Data Loading & Exploration
import pandas as pd
import matplotlib.pyplot as plt
import seaborn as sns
import plotly.express as px

# Set style
sns.set(style="whitegrid")
plt.rcParams['figure.figsize'] = (10,5)

# Load CSV file
file_path = r"C:\Users\user\Desktop\2025\PLP\Python\DataSet\Covid Data.csv"
df = pd.read_csv(file_path)

# Basic exploration
print("✅ Data Loaded Successfully")
print("\nColumns:", df.columns.tolist())
print("\nFirst 5 rows:")
display(df.head())
print("\nMissing values per column:")
print(df.isnull().sum())

# Step 2: Data Cleaning
# Filter countries of interest
countries = ['Kenya', 'United States', 'India']
df = df[df['location'].isin(countries)]

# Convert date column
df['date'] = pd.to_datetime(df['date'], errors='coerce')

# Drop missing dates & total_cases
df = df.dropna(subset=['date', 'total_cases'])

# Fill missing numeric columns with 0
numeric_cols = ['total_cases', 'total_deaths', 'new_cases', 'new_deaths', 'total_vaccinations']
for col in numeric_cols:
    if col in df.columns:
        df[col] = df[col].fillna(0)

print("\n✅ Data Cleaned")
display(df.head())

# Step 3: Exploratory Data Analysis (EDA)
# Total cases over time
plt.figure()
for country in countries:
    plt.plot(df[df['location'] == country]['date'],
             df[df['location'] == country]['total_cases'],
             label=country)
plt.title("Total COVID-19 Cases Over Time")
plt.xlabel("Date")
plt.ylabel("Total Cases")
plt.legend()
plt.show()

# Total deaths over time
plt.figure()
for country in countries:
    plt.plot(df[df['location'] == country]['date'],
             df[df['location'] == country]['total_deaths'],
             label=country)
plt.title("Total COVID-19 Deaths Over Time")
plt.xlabel("Date")
plt.ylabel("Total Deaths")
plt.legend()
plt.show()

# Daily new cases
plt.figure()
for country in countries:
    plt.plot(df[df['location'] == country]['date'],
             df[df['location'] == country]['new_cases'],
             label=country)
plt.title("Daily New COVID-19 Cases")
plt.xlabel("Date")
plt.ylabel("New Cases")
plt.legend()
plt.show()

# Death rate
df['death_rate'] = (df['total_deaths'] / df['total_cases']) * 100

# Step 4: Vaccination Progress
plt.figure()
for country in countries:
    plt.plot(df[df['location'] == country]['date'],
             df[df['location'] == country]['total_vaccinations'],
             label=country)
plt.title("Vaccination Progress Over Time")
plt.xlabel("Date")
plt.ylabel("Total Vaccinations")
plt.legend()
plt.show()

# Step 5: Optional Choropleth Map
latest_date = df['date'].max()
latest_data = df[df['date'] == latest_date]

if 'location' in df.columns and 'total_cases' in df.columns:
    fig = px.choropleth(
        latest_data,
        locations="location",
        locationmode="country names",
        color="total_cases",
        hover_name="location",
        color_continuous_scale="Reds",
        title=f"COVID-19 Cases by Country on {latest_date.date()}"
    )
    fig.show()

# Step 6: Insights & Reporting
print("\n--- KEY INSIGHTS ---")
print(f"Data covers: {df['date'].min().date()} to {df['date'].max().date()}")
print("1. India experienced major case spikes during mid-2021 compared to Kenya and the US.")
print("2. The United States has the highest total vaccination numbers among the selected countries.")
print("3. Death rates vary, suggesting differences in healthcare systems and pandemic responses.")
print("4. Vaccination rollouts accelerated in late 2021, especially in the US and India.")
print("5. Kenya’s daily cases remained relatively low, but vaccination uptake was slower.")
